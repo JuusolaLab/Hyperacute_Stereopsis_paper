{
 "cells": [
  {
   "cell_type": "code",
   "execution_count": 1,
   "metadata": {},
   "outputs": [],
   "source": [
    "using CSV, DataFrames, LightGraphs, SimpleWeightedGraphs, GraphPlot, Compose, Colors, Metis, Statistics, Cairo, NamedArrays;"
   ]
  },
  {
   "cell_type": "code",
   "execution_count": 2,
   "metadata": {
    "scrolled": true
   },
   "outputs": [],
   "source": [
    "upstream_df = CSV.read(\"LC14 Upstream Connections.csv\")\n",
    "downstream_df = CSV.read(\"LC14 downstream Connections.csv\");"
   ]
  },
  {
   "cell_type": "markdown",
   "metadata": {},
   "source": [
    "### Clean up Missing Data"
   ]
  },
  {
   "cell_type": "code",
   "execution_count": 3,
   "metadata": {},
   "outputs": [],
   "source": [
    "replace!(upstream_df[\"type_pre\"], missing => \"\")\n",
    "replace!(upstream_df[\"type_post\"], missing => \"\")\n",
    "replace!(downstream_df[\"type_pre\"], missing => \"\")\n",
    "replace!(downstream_df[\"type_post\"], missing => \"\");"
   ]
  },
  {
   "cell_type": "markdown",
   "metadata": {},
   "source": [
    "Sanity check. Every identified post-synapse to an LC14 neuron has a corresponding pre-synapse connection."
   ]
  },
  {
   "cell_type": "code",
   "execution_count": 4,
   "metadata": {},
   "outputs": [
    {
     "name": "stdout",
     "output_type": "stream",
     "text": [
      "98\n",
      "98\n"
     ]
    }
   ],
   "source": [
    "println(sum(downstream_df.type_post .== \"LC14\"))\n",
    "println(sum(upstream_df.type_pre .== \"LC14\"))"
   ]
  },
  {
   "cell_type": "markdown",
   "metadata": {},
   "source": [
    "### Lets turn this into a Graph"
   ]
  },
  {
   "cell_type": "code",
   "execution_count": 5,
   "metadata": {},
   "outputs": [],
   "source": [
    "self_connections = downstream_df[downstream_df.type_post .== \"LC14\", :];\n",
    "unique_ids = unique([self_connections[\"bodyId_pre\"]; self_connections[\"bodyId_post\"]]);"
   ]
  },
  {
   "cell_type": "markdown",
   "metadata": {},
   "source": [
    "First let's have a look at how many of the total LC14 neurons we've been able to account for here."
   ]
  },
  {
   "cell_type": "code",
   "execution_count": 6,
   "metadata": {},
   "outputs": [
    {
     "name": "stdout",
     "output_type": "stream",
     "text": [
      "length(unique_ids) = 58\n",
      "length(unique((upstream_df[upstream_df[\"type_post\"] .== \"LC14\", :])[\"bodyId_post\"])) = 70\n"
     ]
    }
   ],
   "source": [
    "@show length(unique_ids)\n",
    "@show length(unique(upstream_df[upstream_df[\"type_post\"].== \"LC14\",:][\"bodyId_post\"]));"
   ]
  },
  {
   "cell_type": "markdown",
   "metadata": {},
   "source": [
    "About 60/70, not bad."
   ]
  },
  {
   "cell_type": "markdown",
   "metadata": {},
   "source": [
    "Now let's asing each LC14 bodyId a simple 1:58 Id that we will use as identifiers in the graph"
   ]
  },
  {
   "cell_type": "code",
   "execution_count": 7,
   "metadata": {},
   "outputs": [],
   "source": [
    "body_to_graph = Dict{Int, Int}();\n",
    "sizehint!(body_to_graph, length(unique_ids));\n",
    "for (i, id) in enumerate(unique_ids)\n",
    "    body_to_graph[id] = i\n",
    "end\n",
    "\n",
    "graph_to_body = Dict{Int, Int}();\n",
    "sizehint!(graph_to_body, length(unique_ids));\n",
    "for (i, id) in enumerate(unique_ids)\n",
    "    graph_to_body[i] = id\n",
    "end"
   ]
  },
  {
   "cell_type": "markdown",
   "metadata": {},
   "source": [
    "Now we can turn this into a graph"
   ]
  },
  {
   "cell_type": "code",
   "execution_count": 8,
   "metadata": {},
   "outputs": [],
   "source": [
    "g = SimpleGraph(length(unique_ids));\n",
    "for row in eachrow(self_connections)\n",
    "    add_edge!(g, body_to_graph[row[\"bodyId_pre\"]], body_to_graph[row[\"bodyId_post\"]])\n",
    "end"
   ]
  },
  {
   "cell_type": "code",
   "execution_count": 9,
   "metadata": {},
   "outputs": [],
   "source": [
    "#draw(PDF(\"lc14_self_graph.pdf\", 16cm, 16cm), gplot(g))"
   ]
  },
  {
   "cell_type": "code",
   "execution_count": 10,
   "metadata": {},
   "outputs": [],
   "source": [
    "directed_g = DiGraph(length(unique_ids));\n",
    "for row in eachrow(self_connections)\n",
    "    add_edge!(directed_g, body_to_graph[row[\"bodyId_pre\"]], body_to_graph[row[\"bodyId_post\"]])\n",
    "end"
   ]
  },
  {
   "cell_type": "code",
   "execution_count": 11,
   "metadata": {},
   "outputs": [],
   "source": [
    "weighted_g = SimpleWeightedGraph(length(unique_ids));\n",
    "for row in eachrow(self_connections)\n",
    "    \n",
    "    pre_id = body_to_graph[row[\"bodyId_pre\"]]\n",
    "    post_id = body_to_graph[row[\"bodyId_post\"]]\n",
    "    \n",
    "    # add to edge if it already exists\n",
    "    if weighted_g.weights[pre_id, post_id] > 0.\n",
    "        weighted_g.weights[pre_id, post_id] += row[\"weight\"]\n",
    "    else # otherwise add the edge\n",
    "        add_edge!(weighted_g, pre_id, post_id, row[\"weight\"])\n",
    "\n",
    "    end\n",
    "end"
   ]
  },
  {
   "cell_type": "code",
   "execution_count": 12,
   "metadata": {},
   "outputs": [],
   "source": [
    "#draw(PDF(\"lc14_weightedself_graph.pdf\", 16cm, 16cm), gplot(g))"
   ]
  },
  {
   "cell_type": "markdown",
   "metadata": {},
   "source": [
    "Can we find out where the connection is? There seems to be like lots of leggy connections (probably on account of the sparsity). For instance, are connections between left and right or between right and right?"
   ]
  },
  {
   "cell_type": "markdown",
   "metadata": {},
   "source": [
    "We can find the locations of the presynapses and the postsynapses. wait they'll obviously be in the same place... What we want is like for a given neuron A that innervates B, How far away from neuron B is neuron A's general location. What we want is the distance from the centroid of the presynaptic neuron's postsynapses to the self-connection. "
   ]
  },
  {
   "cell_type": "code",
   "execution_count": 13,
   "metadata": {},
   "outputs": [],
   "source": [
    "synapse_locations = CSV.read(\"lc14_all_synapses.csv\");"
   ]
  },
  {
   "cell_type": "markdown",
   "metadata": {},
   "source": [
    "Go through each self-connection, find the centroid for the pre_neuron, and the location of the self-connection (or connections)."
   ]
  },
  {
   "cell_type": "code",
   "execution_count": 14,
   "metadata": {},
   "outputs": [
    {
     "data": {
      "text/plain": [
       "centroid (generic function with 1 method)"
      ]
     },
     "execution_count": 14,
     "metadata": {},
     "output_type": "execute_result"
    }
   ],
   "source": [
    "function centroid(id, synapse_locations)\n",
    "    x = synapse_locations[synapse_locations[\"bodyId_post\"] .== id, :].x_post\n",
    "    y = synapse_locations[synapse_locations[\"bodyId_post\"] .== id, :].y_post\n",
    "    z = synapse_locations[synapse_locations[\"bodyId_post\"] .== id, :].z_post\n",
    "    return (mean(x), mean(y), mean(z))\n",
    "end"
   ]
  },
  {
   "cell_type": "code",
   "execution_count": 15,
   "metadata": {},
   "outputs": [
    {
     "data": {
      "text/plain": [
       "connection_location (generic function with 1 method)"
      ]
     },
     "execution_count": 15,
     "metadata": {},
     "output_type": "execute_result"
    }
   ],
   "source": [
    "function connection_location(post_id, pre_id, synapse_locations)\n",
    "    \n",
    "    pre_matches = synapse_locations[\"bodyId_pre\"] .== pre_id\n",
    "    post_matches = synapse_locations[\"bodyId_post\"] .== post_id\n",
    "    \n",
    "    connections = synapse_locations[pre_matches .& post_matches, :]\n",
    "    return (mean(connections.x_post), mean(connections.y_post), mean(connections.z_post))\n",
    "end"
   ]
  },
  {
   "cell_type": "code",
   "execution_count": 16,
   "metadata": {},
   "outputs": [],
   "source": [
    "centroid_locations = fill((0.,0.,0.), size(self_connections)[1])\n",
    "self_connection_locations = fill((0.,0.,0.), size(self_connections)[1])\n",
    "i=1\n",
    "for row in eachrow(self_connections)\n",
    "    pre_id = row[\"bodyId_pre\"]\n",
    "    post_id = row[\"bodyId_post\"]\n",
    "    centroid_locations[i] = centroid(pre_id, synapse_locations)\n",
    "    self_connection_locations[i] = connection_location(post_id, pre_id, synapse_locations)\n",
    "    i += 1\n",
    "end\n"
   ]
  },
  {
   "cell_type": "markdown",
   "metadata": {},
   "source": [
    "All fine except there are nans in there? let's investigate why."
   ]
  },
  {
   "cell_type": "code",
   "execution_count": 17,
   "metadata": {},
   "outputs": [
    {
     "data": {
      "text/html": [
       "<p>DataFrameRow (9 columns)</p><table class=\"data-frame\"><thead><tr><th></th><th>Column1</th><th>bodyId_pre</th><th>bodyId_post</th><th>roi</th><th>weight</th><th>type_pre</th><th>instance_pre</th><th>type_post</th></tr><tr><th></th><th>Int64</th><th>Int64</th><th>Int64</th><th>String</th><th>Int64</th><th>String</th><th>String</th><th>String?</th></tr></thead><tbody><tr><th>8</th><td>310</td><td>1316086414</td><td>1533338992</td><td>NotPrimary</td><td>1</td><td>LC14</td><td>LC14_R</td><td>LC14</td></tr></tbody></table>"
      ],
      "text/latex": [
       "\\begin{tabular}{r|ccccccccc}\n",
       "\t& Column1 & bodyId\\_pre & bodyId\\_post & roi & weight & type\\_pre & instance\\_pre & type\\_post & \\\\\n",
       "\t\\hline\n",
       "\t& Int64 & Int64 & Int64 & String & Int64 & String & String & String? & \\\\\n",
       "\t\\hline\n",
       "\t8 & 310 & 1316086414 & 1533338992 & NotPrimary & 1 & LC14 & LC14\\_R & LC14 & $\\dots$ \\\\\n",
       "\\end{tabular}\n"
      ],
      "text/plain": [
       "DataFrameRow. Omitted printing of 3 columns\n",
       "│ Row │ Column1 │ bodyId_pre │ bodyId_post │ roi        │ weight │ type_pre │\n",
       "│     │ \u001b[90mInt64\u001b[39m   │ \u001b[90mInt64\u001b[39m      │ \u001b[90mInt64\u001b[39m       │ \u001b[90mString\u001b[39m     │ \u001b[90mInt64\u001b[39m  │ \u001b[90mString\u001b[39m   │\n",
       "├─────┼─────────┼────────────┼─────────────┼────────────┼────────┼──────────┤\n",
       "│ 8   │ 310     │ 1316086414 │ 1533338992  │ NotPrimary │ 1      │ LC14     │"
      ]
     },
     "execution_count": 17,
     "metadata": {},
     "output_type": "execute_result"
    }
   ],
   "source": [
    "problem_neuron = self_connections[8,:]"
   ]
  },
  {
   "cell_type": "code",
   "execution_count": 18,
   "metadata": {},
   "outputs": [
    {
     "data": {
      "text/html": [
       "<table class=\"data-frame\"><thead><tr><th></th><th>bodyId_pre</th><th>bodyId_post</th><th>roi_pre</th><th>roi_post</th><th>x_pre</th><th>y_pre</th><th>z_pre</th><th>x_post</th><th>y_post</th></tr><tr><th></th><th>Int64</th><th>Int64</th><th>String?</th><th>String?</th><th>Int64</th><th>Int64</th><th>Int64</th><th>Int64</th><th>Int64</th></tr></thead><tbody><p>177 rows × 12 columns (omitted printing of 3 columns)</p><tr><th>1</th><td>883514695</td><td>1316086414</td><td>LO(R)</td><td>LO(R)</td><td>2071</td><td>18651</td><td>20726</td><td>2069</td><td>18634</td></tr><tr><th>2</th><td>883514695</td><td>1316086414</td><td>LO(R)</td><td>LO(R)</td><td>97</td><td>17210</td><td>21791</td><td>105</td><td>17212</td></tr><tr><th>3</th><td>883514695</td><td>1316086414</td><td>LO(R)</td><td>LO(R)</td><td>1960</td><td>19891</td><td>24045</td><td>1967</td><td>19873</td></tr><tr><th>4</th><td>883514695</td><td>1316086414</td><td>LO(R)</td><td>LO(R)</td><td>1799</td><td>19045</td><td>21632</td><td>1816</td><td>19028</td></tr><tr><th>5</th><td>883514695</td><td>1316086414</td><td>LO(R)</td><td>LO(R)</td><td>1867</td><td>19873</td><td>23985</td><td>1880</td><td>19843</td></tr><tr><th>6</th><td>883514695</td><td>1316086414</td><td>LO(R)</td><td>LO(R)</td><td>2243</td><td>18134</td><td>22637</td><td>2271</td><td>18157</td></tr><tr><th>7</th><td>883514695</td><td>1316086414</td><td>LO(R)</td><td>LO(R)</td><td>1079</td><td>19792</td><td>23284</td><td>1093</td><td>19804</td></tr><tr><th>8</th><td>883514695</td><td>1316086414</td><td>LO(R)</td><td>LO(R)</td><td>1884</td><td>19871</td><td>24087</td><td>1882</td><td>19858</td></tr><tr><th>9</th><td>883514695</td><td>1316086414</td><td>LO(R)</td><td>LO(R)</td><td>2079</td><td>19854</td><td>23874</td><td>2088</td><td>19879</td></tr><tr><th>10</th><td>883514695</td><td>1316086414</td><td>LO(R)</td><td>LO(R)</td><td>1262</td><td>19743</td><td>23212</td><td>1264</td><td>19731</td></tr><tr><th>11</th><td>883514695</td><td>1316086414</td><td>LO(R)</td><td>LO(R)</td><td>2029</td><td>19875</td><td>23896</td><td>2038</td><td>19891</td></tr><tr><th>12</th><td>883514695</td><td>1316086414</td><td>LO(R)</td><td>LO(R)</td><td>1427</td><td>18754</td><td>22347</td><td>1443</td><td>18735</td></tr><tr><th>13</th><td>883514695</td><td>1316086414</td><td>LO(R)</td><td>LO(R)</td><td>1139</td><td>19772</td><td>23320</td><td>1139</td><td>19784</td></tr><tr><th>14</th><td>883514695</td><td>1316086414</td><td>LO(R)</td><td>LO(R)</td><td>2337</td><td>18368</td><td>22546</td><td>2327</td><td>18354</td></tr><tr><th>15</th><td>883514695</td><td>1316086414</td><td>LO(R)</td><td>LO(R)</td><td>2229</td><td>18129</td><td>22525</td><td>2205</td><td>18134</td></tr><tr><th>16</th><td>883514695</td><td>1316086414</td><td>LO(R)</td><td>LO(R)</td><td>1798</td><td>18056</td><td>21414</td><td>1786</td><td>18068</td></tr><tr><th>17</th><td>883514695</td><td>1316086414</td><td>LO(R)</td><td>LO(R)</td><td>2057</td><td>19830</td><td>23782</td><td>2061</td><td>19842</td></tr><tr><th>18</th><td>883514695</td><td>1316086414</td><td>LO(R)</td><td>LO(R)</td><td>265</td><td>17455</td><td>21877</td><td>263</td><td>17440</td></tr><tr><th>19</th><td>883514695</td><td>1316086414</td><td>LO(R)</td><td>LO(R)</td><td>2876</td><td>19093</td><td>23195</td><td>2856</td><td>19073</td></tr><tr><th>20</th><td>883514695</td><td>1316086414</td><td>LO(R)</td><td>LO(R)</td><td>1808</td><td>19175</td><td>21549</td><td>1829</td><td>19172</td></tr><tr><th>21</th><td>883514695</td><td>1316086414</td><td>LO(R)</td><td>LO(R)</td><td>1700</td><td>19048</td><td>21553</td><td>1722</td><td>19040</td></tr><tr><th>22</th><td>883514695</td><td>1316086414</td><td>LO(R)</td><td>LO(R)</td><td>1659</td><td>19033</td><td>22455</td><td>1641</td><td>19026</td></tr><tr><th>23</th><td>883514695</td><td>1316086414</td><td>LO(R)</td><td>LO(R)</td><td>2036</td><td>18673</td><td>20665</td><td>2022</td><td>18665</td></tr><tr><th>24</th><td>883514695</td><td>1316086414</td><td>LO(R)</td><td>LO(R)</td><td>1127</td><td>19731</td><td>23255</td><td>1144</td><td>19730</td></tr><tr><th>25</th><td>1005857944</td><td>1316086414</td><td>LO(R)</td><td>LO(R)</td><td>3200</td><td>19111</td><td>22701</td><td>3208</td><td>19097</td></tr><tr><th>26</th><td>1009919653</td><td>1316086414</td><td>LO(R)</td><td>LO(R)</td><td>3055</td><td>18190</td><td>22625</td><td>3048</td><td>18210</td></tr><tr><th>27</th><td>1132228894</td><td>1316086414</td><td>SPS(L)</td><td>SPS(L)</td><td>33421</td><td>19544</td><td>26949</td><td>33421</td><td>19544</td></tr><tr><th>28</th><td>1263331517</td><td>1316086414</td><td>LO(R)</td><td>LO(R)</td><td>79</td><td>16329</td><td>19266</td><td>96</td><td>16318</td></tr><tr><th>29</th><td>1263331517</td><td>1316086414</td><td>LO(R)</td><td>LO(R)</td><td>294</td><td>16521</td><td>19247</td><td>298</td><td>16508</td></tr><tr><th>30</th><td>1263331517</td><td>1316086414</td><td>LO(R)</td><td>LO(R)</td><td>351</td><td>16542</td><td>19252</td><td>358</td><td>16528</td></tr><tr><th>&vellip;</th><td>&vellip;</td><td>&vellip;</td><td>&vellip;</td><td>&vellip;</td><td>&vellip;</td><td>&vellip;</td><td>&vellip;</td><td>&vellip;</td><td>&vellip;</td></tr></tbody></table>"
      ],
      "text/latex": [
       "\\begin{tabular}{r|cccccccccc}\n",
       "\t& bodyId\\_pre & bodyId\\_post & roi\\_pre & roi\\_post & x\\_pre & y\\_pre & z\\_pre & x\\_post & y\\_post & \\\\\n",
       "\t\\hline\n",
       "\t& Int64 & Int64 & String? & String? & Int64 & Int64 & Int64 & Int64 & Int64 & \\\\\n",
       "\t\\hline\n",
       "\t1 & 883514695 & 1316086414 & LO(R) & LO(R) & 2071 & 18651 & 20726 & 2069 & 18634 & $\\dots$ \\\\\n",
       "\t2 & 883514695 & 1316086414 & LO(R) & LO(R) & 97 & 17210 & 21791 & 105 & 17212 & $\\dots$ \\\\\n",
       "\t3 & 883514695 & 1316086414 & LO(R) & LO(R) & 1960 & 19891 & 24045 & 1967 & 19873 & $\\dots$ \\\\\n",
       "\t4 & 883514695 & 1316086414 & LO(R) & LO(R) & 1799 & 19045 & 21632 & 1816 & 19028 & $\\dots$ \\\\\n",
       "\t5 & 883514695 & 1316086414 & LO(R) & LO(R) & 1867 & 19873 & 23985 & 1880 & 19843 & $\\dots$ \\\\\n",
       "\t6 & 883514695 & 1316086414 & LO(R) & LO(R) & 2243 & 18134 & 22637 & 2271 & 18157 & $\\dots$ \\\\\n",
       "\t7 & 883514695 & 1316086414 & LO(R) & LO(R) & 1079 & 19792 & 23284 & 1093 & 19804 & $\\dots$ \\\\\n",
       "\t8 & 883514695 & 1316086414 & LO(R) & LO(R) & 1884 & 19871 & 24087 & 1882 & 19858 & $\\dots$ \\\\\n",
       "\t9 & 883514695 & 1316086414 & LO(R) & LO(R) & 2079 & 19854 & 23874 & 2088 & 19879 & $\\dots$ \\\\\n",
       "\t10 & 883514695 & 1316086414 & LO(R) & LO(R) & 1262 & 19743 & 23212 & 1264 & 19731 & $\\dots$ \\\\\n",
       "\t11 & 883514695 & 1316086414 & LO(R) & LO(R) & 2029 & 19875 & 23896 & 2038 & 19891 & $\\dots$ \\\\\n",
       "\t12 & 883514695 & 1316086414 & LO(R) & LO(R) & 1427 & 18754 & 22347 & 1443 & 18735 & $\\dots$ \\\\\n",
       "\t13 & 883514695 & 1316086414 & LO(R) & LO(R) & 1139 & 19772 & 23320 & 1139 & 19784 & $\\dots$ \\\\\n",
       "\t14 & 883514695 & 1316086414 & LO(R) & LO(R) & 2337 & 18368 & 22546 & 2327 & 18354 & $\\dots$ \\\\\n",
       "\t15 & 883514695 & 1316086414 & LO(R) & LO(R) & 2229 & 18129 & 22525 & 2205 & 18134 & $\\dots$ \\\\\n",
       "\t16 & 883514695 & 1316086414 & LO(R) & LO(R) & 1798 & 18056 & 21414 & 1786 & 18068 & $\\dots$ \\\\\n",
       "\t17 & 883514695 & 1316086414 & LO(R) & LO(R) & 2057 & 19830 & 23782 & 2061 & 19842 & $\\dots$ \\\\\n",
       "\t18 & 883514695 & 1316086414 & LO(R) & LO(R) & 265 & 17455 & 21877 & 263 & 17440 & $\\dots$ \\\\\n",
       "\t19 & 883514695 & 1316086414 & LO(R) & LO(R) & 2876 & 19093 & 23195 & 2856 & 19073 & $\\dots$ \\\\\n",
       "\t20 & 883514695 & 1316086414 & LO(R) & LO(R) & 1808 & 19175 & 21549 & 1829 & 19172 & $\\dots$ \\\\\n",
       "\t21 & 883514695 & 1316086414 & LO(R) & LO(R) & 1700 & 19048 & 21553 & 1722 & 19040 & $\\dots$ \\\\\n",
       "\t22 & 883514695 & 1316086414 & LO(R) & LO(R) & 1659 & 19033 & 22455 & 1641 & 19026 & $\\dots$ \\\\\n",
       "\t23 & 883514695 & 1316086414 & LO(R) & LO(R) & 2036 & 18673 & 20665 & 2022 & 18665 & $\\dots$ \\\\\n",
       "\t24 & 883514695 & 1316086414 & LO(R) & LO(R) & 1127 & 19731 & 23255 & 1144 & 19730 & $\\dots$ \\\\\n",
       "\t25 & 1005857944 & 1316086414 & LO(R) & LO(R) & 3200 & 19111 & 22701 & 3208 & 19097 & $\\dots$ \\\\\n",
       "\t26 & 1009919653 & 1316086414 & LO(R) & LO(R) & 3055 & 18190 & 22625 & 3048 & 18210 & $\\dots$ \\\\\n",
       "\t27 & 1132228894 & 1316086414 & SPS(L) & SPS(L) & 33421 & 19544 & 26949 & 33421 & 19544 & $\\dots$ \\\\\n",
       "\t28 & 1263331517 & 1316086414 & LO(R) & LO(R) & 79 & 16329 & 19266 & 96 & 16318 & $\\dots$ \\\\\n",
       "\t29 & 1263331517 & 1316086414 & LO(R) & LO(R) & 294 & 16521 & 19247 & 298 & 16508 & $\\dots$ \\\\\n",
       "\t30 & 1263331517 & 1316086414 & LO(R) & LO(R) & 351 & 16542 & 19252 & 358 & 16528 & $\\dots$ \\\\\n",
       "\t$\\dots$ & $\\dots$ & $\\dots$ & $\\dots$ & $\\dots$ & $\\dots$ & $\\dots$ & $\\dots$ & $\\dots$ & $\\dots$ &  \\\\\n",
       "\\end{tabular}\n"
      ],
      "text/plain": [
       "177×12 DataFrame. Omitted printing of 5 columns\n",
       "│ Row │ bodyId_pre │ bodyId_post │ roi_pre │ roi_post │ x_pre │ y_pre │ z_pre │\n",
       "│     │ \u001b[90mInt64\u001b[39m      │ \u001b[90mInt64\u001b[39m       │ \u001b[90mString?\u001b[39m │ \u001b[90mString?\u001b[39m  │ \u001b[90mInt64\u001b[39m │ \u001b[90mInt64\u001b[39m │ \u001b[90mInt64\u001b[39m │\n",
       "├─────┼────────────┼─────────────┼─────────┼──────────┼───────┼───────┼───────┤\n",
       "│ 1   │ 883514695  │ 1316086414  │ LO(R)   │ LO(R)    │ 2071  │ 18651 │ 20726 │\n",
       "│ 2   │ 883514695  │ 1316086414  │ LO(R)   │ LO(R)    │ 97    │ 17210 │ 21791 │\n",
       "│ 3   │ 883514695  │ 1316086414  │ LO(R)   │ LO(R)    │ 1960  │ 19891 │ 24045 │\n",
       "│ 4   │ 883514695  │ 1316086414  │ LO(R)   │ LO(R)    │ 1799  │ 19045 │ 21632 │\n",
       "│ 5   │ 883514695  │ 1316086414  │ LO(R)   │ LO(R)    │ 1867  │ 19873 │ 23985 │\n",
       "│ 6   │ 883514695  │ 1316086414  │ LO(R)   │ LO(R)    │ 2243  │ 18134 │ 22637 │\n",
       "│ 7   │ 883514695  │ 1316086414  │ LO(R)   │ LO(R)    │ 1079  │ 19792 │ 23284 │\n",
       "│ 8   │ 883514695  │ 1316086414  │ LO(R)   │ LO(R)    │ 1884  │ 19871 │ 24087 │\n",
       "│ 9   │ 883514695  │ 1316086414  │ LO(R)   │ LO(R)    │ 2079  │ 19854 │ 23874 │\n",
       "│ 10  │ 883514695  │ 1316086414  │ LO(R)   │ LO(R)    │ 1262  │ 19743 │ 23212 │\n",
       "⋮\n",
       "│ 167 │ 5813056423 │ 1316086414  │ LO(R)   │ LO(R)    │ 3189  │ 18343 │ 21668 │\n",
       "│ 168 │ 5813056423 │ 1316086414  │ LO(R)   │ LO(R)    │ 3056  │ 18524 │ 21573 │\n",
       "│ 169 │ 5813056423 │ 1316086414  │ LO(R)   │ LO(R)    │ 2123  │ 19454 │ 21490 │\n",
       "│ 170 │ 5813056423 │ 1316086414  │ LO(R)   │ LO(R)    │ 2135  │ 19668 │ 21344 │\n",
       "│ 171 │ 5813056423 │ 1316086414  │ LO(R)   │ LO(R)    │ 3216  │ 18405 │ 21630 │\n",
       "│ 172 │ 5813056423 │ 1316086414  │ LO(R)   │ LO(R)    │ 2069  │ 19501 │ 21477 │\n",
       "│ 173 │ 5813056423 │ 1316086414  │ LO(R)   │ LO(R)    │ 2080  │ 19578 │ 21426 │\n",
       "│ 174 │ 5813058376 │ 1316086414  │ LO(R)   │ LO(R)    │ 2492  │ 19251 │ 21705 │\n",
       "│ 175 │ 5813064410 │ 1316086414  │ LO(R)   │ LO(R)    │ 1244  │ 18560 │ 22213 │\n",
       "│ 176 │ 5813068615 │ 1316086414  │ LO(R)   │ LO(R)    │ 1013  │ 18440 │ 22229 │\n",
       "│ 177 │ 5813102910 │ 1316086414  │ LO(R)   │ LO(R)    │ 1745  │ 19857 │ 24163 │"
      ]
     },
     "execution_count": 18,
     "metadata": {},
     "output_type": "execute_result"
    }
   ],
   "source": [
    "synapse_locations[synapse_locations[\"bodyId_post\"] .== problem_neuron.bodyId_pre, :]"
   ]
  },
  {
   "cell_type": "markdown",
   "metadata": {},
   "source": [
    "Seems like synapse_locations doesn't contain any record of the 1316086414 neuron. Why would this be?"
   ]
  },
  {
   "cell_type": "code",
   "execution_count": 19,
   "metadata": {},
   "outputs": [
    {
     "data": {
      "text/plain": [
       "(24, 12)"
      ]
     },
     "execution_count": 19,
     "metadata": {},
     "output_type": "execute_result"
    }
   ],
   "source": [
    "size(synapse_locations[synapse_locations[\"bodyId_pre\"] .== problem_neuron.bodyId_pre, :])"
   ]
  },
  {
   "cell_type": "markdown",
   "metadata": {},
   "source": [
    "It has lots of outputs, but no recorded inputs? Thats odd, and probably a result of it being cutoff.\n",
    "\n",
    "Maybe it's not a problem, let's see how often this occurs."
   ]
  },
  {
   "cell_type": "code",
   "execution_count": 20,
   "metadata": {},
   "outputs": [
    {
     "data": {
      "text/plain": [
       "0"
      ]
     },
     "execution_count": 20,
     "metadata": {},
     "output_type": "execute_result"
    }
   ],
   "source": [
    "sum(isnan.(getindex.(centroid_locations, 1)))"
   ]
  },
  {
   "cell_type": "markdown",
   "metadata": {},
   "source": [
    "16 out of 98 isn't great, but not much we can do about it: best just to leave it out [Edit: now we've got all the synapses this is no longer a problem]"
   ]
  },
  {
   "cell_type": "code",
   "execution_count": 21,
   "metadata": {},
   "outputs": [],
   "source": [
    "connections_with_input = .!(isnan.(getindex.(centroid_locations,1)))\n",
    "centroid_locations_filtered = centroid_locations[connections_with_input]\n",
    "self_connection_locations_filtered = centroid_locations[connections_with_input];"
   ]
  },
  {
   "cell_type": "markdown",
   "metadata": {},
   "source": [
    "Now we have the data, let's save and plot it?"
   ]
  },
  {
   "cell_type": "code",
   "execution_count": 22,
   "metadata": {},
   "outputs": [],
   "source": [
    "centroid_x = getindex.(centroid_locations_filtered,1)\n",
    "centroid_y = getindex.(centroid_locations_filtered,2)\n",
    "centroid_z = getindex.(centroid_locations_filtered,3)\n",
    "\n",
    "self_x = getindex.(self_connection_locations_filtered,1)\n",
    "self_y = getindex.(self_connection_locations_filtered,2)\n",
    "self_z = getindex.(self_connection_locations_filtered,3)\n",
    "\n",
    "out = DataFrame(centroid_x=centroid_x, centroid_y=centroid_y, centroid_z=centroid_z, self_x=self_x, self_y=self_y, self_z=self_z);\n"
   ]
  },
  {
   "cell_type": "markdown",
   "metadata": {},
   "source": [
    "That's kind of odd, we have lots of repeats? I thought this was just centroid repeats because each input neuron inputs to many outputs, but actually it looks like the connection location is the same as well which isn't right..."
   ]
  },
  {
   "cell_type": "markdown",
   "metadata": {},
   "source": [
    "The problem is in the self_connections dataframe, look here:"
   ]
  },
  {
   "cell_type": "code",
   "execution_count": 23,
   "metadata": {},
   "outputs": [
    {
     "data": {
      "text/html": [
       "<table class=\"data-frame\"><thead><tr><th></th><th>Column1</th><th>bodyId_pre</th><th>bodyId_post</th><th>roi</th><th>weight</th><th>type_pre</th><th>instance_pre</th><th>type_post</th></tr><tr><th></th><th>Int64</th><th>Int64</th><th>Int64</th><th>String</th><th>Int64</th><th>String</th><th>String</th><th>String?</th></tr></thead><tbody><p>2 rows × 9 columns (omitted printing of 1 columns)</p><tr><th>1</th><td>66</td><td>1249940263</td><td>1158191887</td><td>LO(R)</td><td>7</td><td>LC14</td><td>LC14</td><td>LC14</td></tr><tr><th>2</th><td>67</td><td>1249940263</td><td>1158191887</td><td>NotPrimary</td><td>1</td><td>LC14</td><td>LC14</td><td>LC14</td></tr></tbody></table>"
      ],
      "text/latex": [
       "\\begin{tabular}{r|ccccccccc}\n",
       "\t& Column1 & bodyId\\_pre & bodyId\\_post & roi & weight & type\\_pre & instance\\_pre & type\\_post & \\\\\n",
       "\t\\hline\n",
       "\t& Int64 & Int64 & Int64 & String & Int64 & String & String & String? & \\\\\n",
       "\t\\hline\n",
       "\t1 & 66 & 1249940263 & 1158191887 & LO(R) & 7 & LC14 & LC14 & LC14 & $\\dots$ \\\\\n",
       "\t2 & 67 & 1249940263 & 1158191887 & NotPrimary & 1 & LC14 & LC14 & LC14 & $\\dots$ \\\\\n",
       "\\end{tabular}\n"
      ],
      "text/plain": [
       "2×9 DataFrame. Omitted printing of 3 columns\n",
       "│ Row │ Column1 │ bodyId_pre │ bodyId_post │ roi        │ weight │ type_pre │\n",
       "│     │ \u001b[90mInt64\u001b[39m   │ \u001b[90mInt64\u001b[39m      │ \u001b[90mInt64\u001b[39m       │ \u001b[90mString\u001b[39m     │ \u001b[90mInt64\u001b[39m  │ \u001b[90mString\u001b[39m   │\n",
       "├─────┼─────────┼────────────┼─────────────┼────────────┼────────┼──────────┤\n",
       "│ 1   │ 66      │ 1249940263 │ 1158191887  │ LO(R)      │ 7      │ LC14     │\n",
       "│ 2   │ 67      │ 1249940263 │ 1158191887  │ NotPrimary │ 1      │ LC14     │"
      ]
     },
     "execution_count": 23,
     "metadata": {},
     "output_type": "execute_result"
    }
   ],
   "source": [
    "self_connections[3:4,:]"
   ]
  },
  {
   "cell_type": "markdown",
   "metadata": {},
   "source": [
    "There are two entries for the same input and output neuron, this is because they have different rois and the dataframe cannot save two different rois (not sure what not-primary means...).\n",
    "\n",
    "We need to tidy up the self_connections so that we are only looking through unique pairings."
   ]
  },
  {
   "cell_type": "code",
   "execution_count": 24,
   "metadata": {},
   "outputs": [],
   "source": [
    "self_pre = self_connections[\"bodyId_pre\"]\n",
    "self_post = self_connections[\"bodyId_post\"]\n",
    "self_ids = unique(self_pre .=> self_post)\n",
    "\n",
    "centroid_locations = fill((0.,0.,0.), length(self_ids))\n",
    "self_connection_locations = fill((0.,0.,0.), length(self_ids))\n",
    "i=1\n",
    "for idpair in self_ids\n",
    "    pre_id = idpair[1]\n",
    "    post_id = idpair[2]\n",
    "    centroid_locations[i] = centroid(pre_id, synapse_locations)\n",
    "    self_connection_locations[i] = connection_location(post_id, pre_id, synapse_locations)\n",
    "    i += 1\n",
    "end\n",
    "\n",
    "connections_with_input = .!(isnan.(getindex.(centroid_locations,1)))\n",
    "centroid_locations_filtered = centroid_locations[connections_with_input]\n",
    "self_connection_locations_filtered = self_connection_locations[connections_with_input];\n",
    "\n",
    "centroid_x = getindex.(centroid_locations_filtered,1)\n",
    "centroid_y = getindex.(centroid_locations_filtered,2)\n",
    "centroid_z = getindex.(centroid_locations_filtered,3)\n",
    "\n",
    "self_x = getindex.(self_connection_locations_filtered,1)\n",
    "self_y = getindex.(self_connection_locations_filtered,2)\n",
    "self_z = getindex.(self_connection_locations_filtered,3)\n",
    "\n",
    "out = DataFrame(centroid_x=centroid_x, centroid_y=centroid_y, centroid_z=centroid_z, self_x=self_x, self_y=self_y, self_z=self_z);"
   ]
  },
  {
   "cell_type": "code",
   "execution_count": 25,
   "metadata": {},
   "outputs": [],
   "source": [
    "#CSV.write(\"LC14_Inputspace_to_self_output_space.csv\", out)"
   ]
  },
  {
   "cell_type": "code",
   "execution_count": 26,
   "metadata": {},
   "outputs": [],
   "source": [
    "for neuron in unique_ids\n",
    "    neuron_center =centroid(neuron, synapse_locations)\n",
    "    pre_ids = self_connections[self_connections.bodyId_post .== neuron,:].bodyId_pre\n",
    "    out = DataFrame(bodyId_pre=Int[], bodyId_post=Int[], roi_pre=String[], roi_post=String[], x_pre=Int[], y_pre=Int[], z_pre=Int[], x_post=Int[], y_post=Int[], z_post=Int[], confidence_pre=Float64[], confidence_post=Float64[])\n",
    "    for presynaptic in pre_ids\n",
    "        out = [out; synapse_locations[synapse_locations[\"bodyId_post\"] .== presynaptic, :]]\n",
    "    end\n",
    "    \n",
    "end"
   ]
  },
  {
   "cell_type": "code",
   "execution_count": 27,
   "metadata": {},
   "outputs": [
    {
     "data": {
      "text/html": [
       "<table class=\"data-frame\"><thead><tr><th></th><th>bodyId_pre</th><th>bodyId_post</th><th>roi_pre</th><th>roi_post</th><th>x_pre</th><th>y_pre</th><th>z_pre</th><th>x_post</th><th>y_post</th></tr><tr><th></th><th>Int64</th><th>Int64</th><th>String?</th><th>String?</th><th>Int64</th><th>Int64</th><th>Int64</th><th>Int64</th><th>Int64</th></tr></thead><tbody><p>4 rows × 12 columns (omitted printing of 3 columns)</p><tr><th>1</th><td>544038294</td><td>5813054748</td><td>LO(R)</td><td>LO(R)</td><td>4841</td><td>16294</td><td>28648</td><td>4841</td><td>16294</td></tr><tr><th>2</th><td>544038294</td><td>5813054748</td><td>LO(R)</td><td>LO(R)</td><td>5050</td><td>17297</td><td>28013</td><td>5065</td><td>17320</td></tr><tr><th>3</th><td>544038294</td><td>5812989312</td><td>LO(R)</td><td>LO(R)</td><td>6083</td><td>13951</td><td>27213</td><td>6111</td><td>13959</td></tr><tr><th>4</th><td>544038294</td><td>1503331732</td><td>LO(R)</td><td>LO(R)</td><td>3366</td><td>19414</td><td>30918</td><td>3385</td><td>19407</td></tr></tbody></table>"
      ],
      "text/latex": [
       "\\begin{tabular}{r|cccccccccc}\n",
       "\t& bodyId\\_pre & bodyId\\_post & roi\\_pre & roi\\_post & x\\_pre & y\\_pre & z\\_pre & x\\_post & y\\_post & \\\\\n",
       "\t\\hline\n",
       "\t& Int64 & Int64 & String? & String? & Int64 & Int64 & Int64 & Int64 & Int64 & \\\\\n",
       "\t\\hline\n",
       "\t1 & 544038294 & 5813054748 & LO(R) & LO(R) & 4841 & 16294 & 28648 & 4841 & 16294 & $\\dots$ \\\\\n",
       "\t2 & 544038294 & 5813054748 & LO(R) & LO(R) & 5050 & 17297 & 28013 & 5065 & 17320 & $\\dots$ \\\\\n",
       "\t3 & 544038294 & 5812989312 & LO(R) & LO(R) & 6083 & 13951 & 27213 & 6111 & 13959 & $\\dots$ \\\\\n",
       "\t4 & 544038294 & 1503331732 & LO(R) & LO(R) & 3366 & 19414 & 30918 & 3385 & 19407 & $\\dots$ \\\\\n",
       "\\end{tabular}\n"
      ],
      "text/plain": [
       "4×12 DataFrame. Omitted printing of 5 columns\n",
       "│ Row │ bodyId_pre │ bodyId_post │ roi_pre │ roi_post │ x_pre │ y_pre │ z_pre │\n",
       "│     │ \u001b[90mInt64\u001b[39m      │ \u001b[90mInt64\u001b[39m       │ \u001b[90mString?\u001b[39m │ \u001b[90mString?\u001b[39m  │ \u001b[90mInt64\u001b[39m │ \u001b[90mInt64\u001b[39m │ \u001b[90mInt64\u001b[39m │\n",
       "├─────┼────────────┼─────────────┼─────────┼──────────┼───────┼───────┼───────┤\n",
       "│ 1   │ 544038294  │ 5813054748  │ LO(R)   │ LO(R)    │ 4841  │ 16294 │ 28648 │\n",
       "│ 2   │ 544038294  │ 5813054748  │ LO(R)   │ LO(R)    │ 5050  │ 17297 │ 28013 │\n",
       "│ 3   │ 544038294  │ 5812989312  │ LO(R)   │ LO(R)    │ 6083  │ 13951 │ 27213 │\n",
       "│ 4   │ 544038294  │ 1503331732  │ LO(R)   │ LO(R)    │ 3366  │ 19414 │ 30918 │"
      ]
     },
     "execution_count": 27,
     "metadata": {},
     "output_type": "execute_result"
    }
   ],
   "source": [
    "a = DataFrame(bodyId_pre=Int[], bodyId_post=Int[], roi_pre=String[], roi_post=String[], x_pre=Int[], y_pre=Int[], z_pre=Int[], x_post=Int[], y_post=Int[], z_post=Int[], confidence_pre=Float64[], confidence_post=Float64[])\n",
    "[a; synapse_locations[1:4,:]]"
   ]
  },
  {
   "cell_type": "code",
   "execution_count": 28,
   "metadata": {},
   "outputs": [],
   "source": [
    "lc14_centroids = DataFrame(bodyId=Int[], x=Float64[], y=Float64[], z=Float64[])\n",
    "for (i,neuron) in enumerate(unique_ids)\n",
    "    push!(lc14_centroids, (neuron, centroid(neuron, synapse_locations)...))\n",
    "end"
   ]
  },
  {
   "cell_type": "code",
   "execution_count": 29,
   "metadata": {},
   "outputs": [],
   "source": [
    "for neuron in unique_ids\n",
    "    self_connections[self_connections.bodyId_post .== neuron, :]\n",
    "end"
   ]
  },
  {
   "cell_type": "code",
   "execution_count": 30,
   "metadata": {},
   "outputs": [
    {
     "data": {
      "text/plain": [
       "nearest_neighbours (generic function with 1 method)"
      ]
     },
     "execution_count": 30,
     "metadata": {},
     "output_type": "execute_result"
    }
   ],
   "source": [
    "distance(p1::NTuple{3,<:Real}, p2::NTuple{3,<:Real}) = sqrt.( (p1[1] - p2[1])^2 + (p1[2] - p1[2])^2 + (p1[3] - p2[3])^2 )\n",
    "\n",
    "function nearest_neighbours(neighbours, center)\n",
    "    distances = zeros(Float64, size(neighbours)[1])\n",
    "    for n in 1:size(neighbours)[1]\n",
    "        distances[n] = distance((center.x[1], center.y[1], center.z[1]), (neighbours.x[n], neighbours.y[n], neighbours.z[n]))\n",
    "    end\n",
    "    return (neighbours[sortperm(distances),:], distances[sortperm(distances)])\n",
    "end"
   ]
  },
  {
   "cell_type": "code",
   "execution_count": 31,
   "metadata": {},
   "outputs": [],
   "source": [
    "lc14_neighbours = NamedArray(Array{Int}(undef, length(unique_ids), length(unique_ids)))\n",
    "setnames!(lc14_neighbours, [\"ID\"; string.([1:length(unique_ids)-1;])], 2)\n",
    "for (i,neuron) in enumerate(lc14_centroids.bodyId)\n",
    "\n",
    "    neuron_idx = lc14_centroids.bodyId .== neuron\n",
    "    center = lc14_centroids[neuron_idx, :]\n",
    "    neighbours = lc14_centroids[.!neuron_idx, :]\n",
    "    (nearest, _) = nearest_neighbours(neighbours, center)\n",
    "    lc14_neighbours[i, :] .= [neuron; nearest.bodyId]\n",
    "end\n"
   ]
  },
  {
   "cell_type": "code",
   "execution_count": 32,
   "metadata": {},
   "outputs": [],
   "source": [
    "connection_separation = zeros(Int, length(self_ids))\n",
    "i=1\n",
    "for (pre, post) in self_ids\n",
    "    connection_separation[i] = findfirst(x-> x .== post, lc14_neighbours[lc14_neighbours[:,1] .== pre, :])[2] - 1\n",
    "    i += 1\n",
    "end"
   ]
  },
  {
   "cell_type": "code",
   "execution_count": 33,
   "metadata": {},
   "outputs": [
    {
     "data": {
      "text/html": [
       "<table class=\"data-frame\"><thead><tr><th></th><th>pre_neuron</th><th>post_neuron</th><th>separation</th></tr><tr><th></th><th>Int64</th><th>Int64</th><th>Int64</th></tr></thead><tbody><p>90 rows × 3 columns</p><tr><th>1</th><td>1158191887</td><td>1249940263</td><td>2</td></tr><tr><th>2</th><td>1158191887</td><td>1558605812</td><td>21</td></tr><tr><th>3</th><td>1249940263</td><td>1158191887</td><td>1</td></tr><tr><th>4</th><td>1249940263</td><td>1255405703</td><td>12</td></tr><tr><th>5</th><td>1249940263</td><td>1280980178</td><td>4</td></tr><tr><th>6</th><td>1249940263</td><td>1690283458</td><td>48</td></tr><tr><th>7</th><td>1316086414</td><td>1533338992</td><td>33</td></tr><tr><th>8</th><td>1316086414</td><td>5813033742</td><td>3</td></tr><tr><th>9</th><td>1316086414</td><td>5813054748</td><td>35</td></tr><tr><th>10</th><td>1348498693</td><td>1659235557</td><td>17</td></tr><tr><th>11</th><td>1348498693</td><td>5813077655</td><td>8</td></tr><tr><th>12</th><td>1377845289</td><td>1408880450</td><td>8</td></tr><tr><th>13</th><td>1377845289</td><td>1411250251</td><td>27</td></tr><tr><th>14</th><td>1377845289</td><td>1470950640</td><td>32</td></tr><tr><th>15</th><td>1377845289</td><td>1533338992</td><td>34</td></tr><tr><th>16</th><td>1377845289</td><td>2220920100</td><td>49</td></tr><tr><th>17</th><td>1377845289</td><td>5813054748</td><td>35</td></tr><tr><th>18</th><td>1408880450</td><td>1377845289</td><td>4</td></tr><tr><th>19</th><td>1408880450</td><td>2220920100</td><td>49</td></tr><tr><th>20</th><td>1408880450</td><td>5813033742</td><td>2</td></tr><tr><th>21</th><td>1411250251</td><td>1470950640</td><td>5</td></tr><tr><th>22</th><td>1411254502</td><td>1249940263</td><td>7</td></tr><tr><th>23</th><td>1435140135</td><td>1659235318</td><td>13</td></tr><tr><th>24</th><td>1440566287</td><td>1472624438</td><td>6</td></tr><tr><th>25</th><td>1440566287</td><td>1596199055</td><td>1</td></tr><tr><th>26</th><td>1440566287</td><td>1657945663</td><td>4</td></tr><tr><th>27</th><td>1440566287</td><td>5813079585</td><td>5</td></tr><tr><th>28</th><td>1470950640</td><td>1280980178</td><td>46</td></tr><tr><th>29</th><td>1470950640</td><td>1408880450</td><td>32</td></tr><tr><th>30</th><td>1472624438</td><td>2220920100</td><td>46</td></tr><tr><th>&vellip;</th><td>&vellip;</td><td>&vellip;</td><td>&vellip;</td></tr></tbody></table>"
      ],
      "text/latex": [
       "\\begin{tabular}{r|ccc}\n",
       "\t& pre\\_neuron & post\\_neuron & separation\\\\\n",
       "\t\\hline\n",
       "\t& Int64 & Int64 & Int64\\\\\n",
       "\t\\hline\n",
       "\t1 & 1158191887 & 1249940263 & 2 \\\\\n",
       "\t2 & 1158191887 & 1558605812 & 21 \\\\\n",
       "\t3 & 1249940263 & 1158191887 & 1 \\\\\n",
       "\t4 & 1249940263 & 1255405703 & 12 \\\\\n",
       "\t5 & 1249940263 & 1280980178 & 4 \\\\\n",
       "\t6 & 1249940263 & 1690283458 & 48 \\\\\n",
       "\t7 & 1316086414 & 1533338992 & 33 \\\\\n",
       "\t8 & 1316086414 & 5813033742 & 3 \\\\\n",
       "\t9 & 1316086414 & 5813054748 & 35 \\\\\n",
       "\t10 & 1348498693 & 1659235557 & 17 \\\\\n",
       "\t11 & 1348498693 & 5813077655 & 8 \\\\\n",
       "\t12 & 1377845289 & 1408880450 & 8 \\\\\n",
       "\t13 & 1377845289 & 1411250251 & 27 \\\\\n",
       "\t14 & 1377845289 & 1470950640 & 32 \\\\\n",
       "\t15 & 1377845289 & 1533338992 & 34 \\\\\n",
       "\t16 & 1377845289 & 2220920100 & 49 \\\\\n",
       "\t17 & 1377845289 & 5813054748 & 35 \\\\\n",
       "\t18 & 1408880450 & 1377845289 & 4 \\\\\n",
       "\t19 & 1408880450 & 2220920100 & 49 \\\\\n",
       "\t20 & 1408880450 & 5813033742 & 2 \\\\\n",
       "\t21 & 1411250251 & 1470950640 & 5 \\\\\n",
       "\t22 & 1411254502 & 1249940263 & 7 \\\\\n",
       "\t23 & 1435140135 & 1659235318 & 13 \\\\\n",
       "\t24 & 1440566287 & 1472624438 & 6 \\\\\n",
       "\t25 & 1440566287 & 1596199055 & 1 \\\\\n",
       "\t26 & 1440566287 & 1657945663 & 4 \\\\\n",
       "\t27 & 1440566287 & 5813079585 & 5 \\\\\n",
       "\t28 & 1470950640 & 1280980178 & 46 \\\\\n",
       "\t29 & 1470950640 & 1408880450 & 32 \\\\\n",
       "\t30 & 1472624438 & 2220920100 & 46 \\\\\n",
       "\t$\\dots$ & $\\dots$ & $\\dots$ & $\\dots$ \\\\\n",
       "\\end{tabular}\n"
      ],
      "text/plain": [
       "90×3 DataFrame\n",
       "│ Row │ pre_neuron │ post_neuron │ separation │\n",
       "│     │ \u001b[90mInt64\u001b[39m      │ \u001b[90mInt64\u001b[39m       │ \u001b[90mInt64\u001b[39m      │\n",
       "├─────┼────────────┼─────────────┼────────────┤\n",
       "│ 1   │ 1158191887 │ 1249940263  │ 2          │\n",
       "│ 2   │ 1158191887 │ 1558605812  │ 21         │\n",
       "│ 3   │ 1249940263 │ 1158191887  │ 1          │\n",
       "│ 4   │ 1249940263 │ 1255405703  │ 12         │\n",
       "│ 5   │ 1249940263 │ 1280980178  │ 4          │\n",
       "│ 6   │ 1249940263 │ 1690283458  │ 48         │\n",
       "│ 7   │ 1316086414 │ 1533338992  │ 33         │\n",
       "│ 8   │ 1316086414 │ 5813033742  │ 3          │\n",
       "│ 9   │ 1316086414 │ 5813054748  │ 35         │\n",
       "│ 10  │ 1348498693 │ 1659235557  │ 17         │\n",
       "⋮\n",
       "│ 80  │ 5812990447 │ 1255405703  │ 5          │\n",
       "│ 81  │ 5812990447 │ 1932730059  │ 49         │\n",
       "│ 82  │ 5812991538 │ 1558605812  │ 24         │\n",
       "│ 83  │ 5813054748 │ 1377845289  │ 40         │\n",
       "│ 84  │ 5813054748 │ 1503331732  │ 6          │\n",
       "│ 85  │ 5813054748 │ 5813079585  │ 15         │\n",
       "│ 86  │ 5813077655 │ 1558605812  │ 12         │\n",
       "│ 87  │ 5813079585 │ 1440566287  │ 19         │\n",
       "│ 88  │ 5813079585 │ 1596199055  │ 16         │\n",
       "│ 89  │ 5813089732 │ 1158191887  │ 49         │\n",
       "│ 90  │ 5813089732 │ 1315745396  │ 46         │"
      ]
     },
     "execution_count": 33,
     "metadata": {},
     "output_type": "execute_result"
    }
   ],
   "source": [
    "separations = DataFrame(pre_neuron=getindex.(self_ids,1), post_neuron=getindex.(self_ids,2), separation=connection_separation)\n",
    "#CSV.write(\"self_connection_separations.csv\", separations)"
   ]
  },
  {
   "cell_type": "code",
   "execution_count": 34,
   "metadata": {},
   "outputs": [],
   "source": [
    "distances = zeros(Float64, length(self_ids))\n",
    "i=1\n",
    "for (pre, post) in self_ids\n",
    "    pre_location = lc14_centroids[lc14_centroids.bodyId .== pre, 2:end]\n",
    "    post_location = lc14_centroids[lc14_centroids.bodyId .== post, 2:end]\n",
    "    distances[i] = distance((pre_location.x[1], pre_location.y[1], pre_location.z[1]), (post_location.x[1], post_location.y[1], post_location.z[1]))\n",
    "    i+=1\n",
    "end"
   ]
  },
  {
   "cell_type": "code",
   "execution_count": 39,
   "metadata": {
    "scrolled": true
   },
   "outputs": [
    {
     "data": {
      "text/html": [
       "<table class=\"data-frame\"><thead><tr><th></th><th>bodyId_pre</th><th>bodyId_post</th><th>roi_pre</th><th>roi_post</th><th>x_pre</th><th>y_pre</th><th>z_pre</th><th>x_post</th><th>y_post</th></tr><tr><th></th><th>Int64</th><th>Int64</th><th>String?</th><th>String?</th><th>Int64</th><th>Int64</th><th>Int64</th><th>Int64</th><th>Int64</th></tr></thead><tbody><p>20,353 rows × 12 columns (omitted printing of 3 columns)</p><tr><th>1</th><td>544038294</td><td>5813054748</td><td>LO(R)</td><td>LO(R)</td><td>4841</td><td>16294</td><td>28648</td><td>4841</td><td>16294</td></tr><tr><th>2</th><td>544038294</td><td>5813054748</td><td>LO(R)</td><td>LO(R)</td><td>5050</td><td>17297</td><td>28013</td><td>5065</td><td>17320</td></tr><tr><th>3</th><td>544038294</td><td>5812989312</td><td>LO(R)</td><td>LO(R)</td><td>6083</td><td>13951</td><td>27213</td><td>6111</td><td>13959</td></tr><tr><th>4</th><td>544038294</td><td>1503331732</td><td>LO(R)</td><td>LO(R)</td><td>3366</td><td>19414</td><td>30918</td><td>3385</td><td>19407</td></tr><tr><th>5</th><td>544038294</td><td>1503331732</td><td>LO(R)</td><td>LO(R)</td><td>3558</td><td>21189</td><td>30915</td><td>3578</td><td>21194</td></tr><tr><th>6</th><td>544038294</td><td>1470950640</td><td>LO(R)</td><td>LO(R)</td><td>6764</td><td>16355</td><td>30281</td><td>6764</td><td>16385</td></tr><tr><th>7</th><td>544038294</td><td>1441949046</td><td>LO(R)</td><td>LO(R)</td><td>3323</td><td>21978</td><td>29675</td><td>3334</td><td>21948</td></tr><tr><th>8</th><td>544038294</td><td>1161946749</td><td>LO(R)</td><td>LO(R)</td><td>3598</td><td>21456</td><td>29103</td><td>3599</td><td>21430</td></tr><tr><th>9</th><td>543692985</td><td>1659235318</td><td><em>missing</em></td><td><em>missing</em></td><td>5181</td><td>20189</td><td>28661</td><td>5167</td><td>20205</td></tr><tr><th>10</th><td>544038123</td><td>5813054748</td><td>LO(R)</td><td>LO(R)</td><td>6480</td><td>15752</td><td>29644</td><td>6473</td><td>15749</td></tr><tr><th>11</th><td>544038123</td><td>5813054748</td><td>LO(R)</td><td>LO(R)</td><td>7005</td><td>18499</td><td>31432</td><td>6994</td><td>18491</td></tr><tr><th>12</th><td>544038123</td><td>5813033742</td><td>LO(R)</td><td>LO(R)</td><td>3811</td><td>16028</td><td>22151</td><td>3796</td><td>16002</td></tr><tr><th>13</th><td>544038123</td><td>1533338992</td><td>LO(R)</td><td>LO(R)</td><td>5714</td><td>19399</td><td>30803</td><td>5708</td><td>19393</td></tr><tr><th>14</th><td>544038123</td><td>1533338992</td><td>LO(R)</td><td>LO(R)</td><td>5726</td><td>19510</td><td>30864</td><td>5700</td><td>19516</td></tr><tr><th>15</th><td>544038123</td><td>1503331732</td><td>LO(R)</td><td>LO(R)</td><td>4796</td><td>20655</td><td>30406</td><td>4776</td><td>20626</td></tr><tr><th>16</th><td>544038123</td><td>1503331732</td><td>LO(R)</td><td>LO(R)</td><td>3713</td><td>19053</td><td>27788</td><td>3725</td><td>19057</td></tr><tr><th>17</th><td>544038123</td><td>1503331732</td><td>LO(R)</td><td>LO(R)</td><td>3757</td><td>18973</td><td>27900</td><td>3771</td><td>18990</td></tr><tr><th>18</th><td>544038123</td><td>1470950640</td><td>LO(R)</td><td>LO(R)</td><td>6269</td><td>15528</td><td>28581</td><td>6262</td><td>15504</td></tr><tr><th>19</th><td>544366430</td><td>1158191887</td><td>LO(R)</td><td>LO(R)</td><td>4194</td><td>12656</td><td>19713</td><td>4208</td><td>12649</td></tr><tr><th>20</th><td>541697718</td><td>5813033742</td><td>LO(R)</td><td>LO(R)</td><td>3694</td><td>18314</td><td>24694</td><td>3681</td><td>18291</td></tr><tr><th>21</th><td>541697718</td><td>1690274628</td><td>LO(R)</td><td>LO(R)</td><td>2031</td><td>20928</td><td>25932</td><td>2031</td><td>20946</td></tr><tr><th>22</th><td>669325882</td><td>5813033742</td><td>LO(R)</td><td>LO(R)</td><td>3501</td><td>15606</td><td>22195</td><td>3494</td><td>15615</td></tr><tr><th>23</th><td>669325882</td><td>5812989312</td><td>LO(R)</td><td>LO(R)</td><td>3378</td><td>14113</td><td>23878</td><td>3389</td><td>14112</td></tr><tr><th>24</th><td>669325882</td><td>1690274628</td><td>LO(R)</td><td>LO(R)</td><td>1951</td><td>20604</td><td>26654</td><td>1973</td><td>20614</td></tr><tr><th>25</th><td>669325882</td><td>1657945663</td><td>PLP(R)</td><td>PLP(R)</td><td>17722</td><td>15873</td><td>26204</td><td>17731</td><td>15877</td></tr><tr><th>26</th><td>669325882</td><td>1533338992</td><td>LO(R)</td><td>LO(R)</td><td>4047</td><td>18148</td><td>27072</td><td>4056</td><td>18160</td></tr><tr><th>27</th><td>669325882</td><td>1503331732</td><td>LO(R)</td><td>LO(R)</td><td>1571</td><td>19812</td><td>23529</td><td>1554</td><td>19828</td></tr><tr><th>28</th><td>669325882</td><td>1470950640</td><td>LO(R)</td><td>LO(R)</td><td>4373</td><td>16501</td><td>28444</td><td>4347</td><td>16493</td></tr><tr><th>29</th><td>669325882</td><td>1408880450</td><td>LO(R)</td><td>LO(R)</td><td>4307</td><td>15781</td><td>25910</td><td>4297</td><td>15775</td></tr><tr><th>30</th><td>669325882</td><td>1191273014</td><td>LO(R)</td><td>LO(R)</td><td>3115</td><td>14517</td><td>18647</td><td>3099</td><td>14541</td></tr><tr><th>&vellip;</th><td>&vellip;</td><td>&vellip;</td><td>&vellip;</td><td>&vellip;</td><td>&vellip;</td><td>&vellip;</td><td>&vellip;</td><td>&vellip;</td><td>&vellip;</td></tr></tbody></table>"
      ],
      "text/latex": [
       "\\begin{tabular}{r|cccccccccc}\n",
       "\t& bodyId\\_pre & bodyId\\_post & roi\\_pre & roi\\_post & x\\_pre & y\\_pre & z\\_pre & x\\_post & y\\_post & \\\\\n",
       "\t\\hline\n",
       "\t& Int64 & Int64 & String? & String? & Int64 & Int64 & Int64 & Int64 & Int64 & \\\\\n",
       "\t\\hline\n",
       "\t1 & 544038294 & 5813054748 & LO(R) & LO(R) & 4841 & 16294 & 28648 & 4841 & 16294 & $\\dots$ \\\\\n",
       "\t2 & 544038294 & 5813054748 & LO(R) & LO(R) & 5050 & 17297 & 28013 & 5065 & 17320 & $\\dots$ \\\\\n",
       "\t3 & 544038294 & 5812989312 & LO(R) & LO(R) & 6083 & 13951 & 27213 & 6111 & 13959 & $\\dots$ \\\\\n",
       "\t4 & 544038294 & 1503331732 & LO(R) & LO(R) & 3366 & 19414 & 30918 & 3385 & 19407 & $\\dots$ \\\\\n",
       "\t5 & 544038294 & 1503331732 & LO(R) & LO(R) & 3558 & 21189 & 30915 & 3578 & 21194 & $\\dots$ \\\\\n",
       "\t6 & 544038294 & 1470950640 & LO(R) & LO(R) & 6764 & 16355 & 30281 & 6764 & 16385 & $\\dots$ \\\\\n",
       "\t7 & 544038294 & 1441949046 & LO(R) & LO(R) & 3323 & 21978 & 29675 & 3334 & 21948 & $\\dots$ \\\\\n",
       "\t8 & 544038294 & 1161946749 & LO(R) & LO(R) & 3598 & 21456 & 29103 & 3599 & 21430 & $\\dots$ \\\\\n",
       "\t9 & 543692985 & 1659235318 & \\emph{missing} & \\emph{missing} & 5181 & 20189 & 28661 & 5167 & 20205 & $\\dots$ \\\\\n",
       "\t10 & 544038123 & 5813054748 & LO(R) & LO(R) & 6480 & 15752 & 29644 & 6473 & 15749 & $\\dots$ \\\\\n",
       "\t11 & 544038123 & 5813054748 & LO(R) & LO(R) & 7005 & 18499 & 31432 & 6994 & 18491 & $\\dots$ \\\\\n",
       "\t12 & 544038123 & 5813033742 & LO(R) & LO(R) & 3811 & 16028 & 22151 & 3796 & 16002 & $\\dots$ \\\\\n",
       "\t13 & 544038123 & 1533338992 & LO(R) & LO(R) & 5714 & 19399 & 30803 & 5708 & 19393 & $\\dots$ \\\\\n",
       "\t14 & 544038123 & 1533338992 & LO(R) & LO(R) & 5726 & 19510 & 30864 & 5700 & 19516 & $\\dots$ \\\\\n",
       "\t15 & 544038123 & 1503331732 & LO(R) & LO(R) & 4796 & 20655 & 30406 & 4776 & 20626 & $\\dots$ \\\\\n",
       "\t16 & 544038123 & 1503331732 & LO(R) & LO(R) & 3713 & 19053 & 27788 & 3725 & 19057 & $\\dots$ \\\\\n",
       "\t17 & 544038123 & 1503331732 & LO(R) & LO(R) & 3757 & 18973 & 27900 & 3771 & 18990 & $\\dots$ \\\\\n",
       "\t18 & 544038123 & 1470950640 & LO(R) & LO(R) & 6269 & 15528 & 28581 & 6262 & 15504 & $\\dots$ \\\\\n",
       "\t19 & 544366430 & 1158191887 & LO(R) & LO(R) & 4194 & 12656 & 19713 & 4208 & 12649 & $\\dots$ \\\\\n",
       "\t20 & 541697718 & 5813033742 & LO(R) & LO(R) & 3694 & 18314 & 24694 & 3681 & 18291 & $\\dots$ \\\\\n",
       "\t21 & 541697718 & 1690274628 & LO(R) & LO(R) & 2031 & 20928 & 25932 & 2031 & 20946 & $\\dots$ \\\\\n",
       "\t22 & 669325882 & 5813033742 & LO(R) & LO(R) & 3501 & 15606 & 22195 & 3494 & 15615 & $\\dots$ \\\\\n",
       "\t23 & 669325882 & 5812989312 & LO(R) & LO(R) & 3378 & 14113 & 23878 & 3389 & 14112 & $\\dots$ \\\\\n",
       "\t24 & 669325882 & 1690274628 & LO(R) & LO(R) & 1951 & 20604 & 26654 & 1973 & 20614 & $\\dots$ \\\\\n",
       "\t25 & 669325882 & 1657945663 & PLP(R) & PLP(R) & 17722 & 15873 & 26204 & 17731 & 15877 & $\\dots$ \\\\\n",
       "\t26 & 669325882 & 1533338992 & LO(R) & LO(R) & 4047 & 18148 & 27072 & 4056 & 18160 & $\\dots$ \\\\\n",
       "\t27 & 669325882 & 1503331732 & LO(R) & LO(R) & 1571 & 19812 & 23529 & 1554 & 19828 & $\\dots$ \\\\\n",
       "\t28 & 669325882 & 1470950640 & LO(R) & LO(R) & 4373 & 16501 & 28444 & 4347 & 16493 & $\\dots$ \\\\\n",
       "\t29 & 669325882 & 1408880450 & LO(R) & LO(R) & 4307 & 15781 & 25910 & 4297 & 15775 & $\\dots$ \\\\\n",
       "\t30 & 669325882 & 1191273014 & LO(R) & LO(R) & 3115 & 14517 & 18647 & 3099 & 14541 & $\\dots$ \\\\\n",
       "\t$\\dots$ & $\\dots$ & $\\dots$ & $\\dots$ & $\\dots$ & $\\dots$ & $\\dots$ & $\\dots$ & $\\dots$ & $\\dots$ &  \\\\\n",
       "\\end{tabular}\n"
      ],
      "text/plain": [
       "20353×12 DataFrame. Omitted printing of 6 columns\n",
       "│ Row   │ bodyId_pre │ bodyId_post │ roi_pre │ roi_post │ x_pre │ y_pre │\n",
       "│       │ \u001b[90mInt64\u001b[39m      │ \u001b[90mInt64\u001b[39m       │ \u001b[90mString?\u001b[39m │ \u001b[90mString?\u001b[39m  │ \u001b[90mInt64\u001b[39m │ \u001b[90mInt64\u001b[39m │\n",
       "├───────┼────────────┼─────────────┼─────────┼──────────┼───────┼───────┤\n",
       "│ 1     │ 544038294  │ 5813054748  │ LO(R)   │ LO(R)    │ 4841  │ 16294 │\n",
       "│ 2     │ 544038294  │ 5813054748  │ LO(R)   │ LO(R)    │ 5050  │ 17297 │\n",
       "│ 3     │ 544038294  │ 5812989312  │ LO(R)   │ LO(R)    │ 6083  │ 13951 │\n",
       "│ 4     │ 544038294  │ 1503331732  │ LO(R)   │ LO(R)    │ 3366  │ 19414 │\n",
       "│ 5     │ 544038294  │ 1503331732  │ LO(R)   │ LO(R)    │ 3558  │ 21189 │\n",
       "│ 6     │ 544038294  │ 1470950640  │ LO(R)   │ LO(R)    │ 6764  │ 16355 │\n",
       "│ 7     │ 544038294  │ 1441949046  │ LO(R)   │ LO(R)    │ 3323  │ 21978 │\n",
       "│ 8     │ 544038294  │ 1161946749  │ LO(R)   │ LO(R)    │ 3598  │ 21456 │\n",
       "│ 9     │ 543692985  │ 1659235318  │ \u001b[90mmissing\u001b[39m │ \u001b[90mmissing\u001b[39m  │ 5181  │ 20189 │\n",
       "│ 10    │ 544038123  │ 5813054748  │ LO(R)   │ LO(R)    │ 6480  │ 15752 │\n",
       "⋮\n",
       "│ 20343 │ 5813089732 │ 1632996774  │ \u001b[90mmissing\u001b[39m │ \u001b[90mmissing\u001b[39m  │ 17609 │ 18084 │\n",
       "│ 20344 │ 5813089732 │ 1600209534  │ \u001b[90mmissing\u001b[39m │ \u001b[90mmissing\u001b[39m  │ 15618 │ 18788 │\n",
       "│ 20345 │ 5813089732 │ 1598888968  │ \u001b[90mmissing\u001b[39m │ \u001b[90mmissing\u001b[39m  │ 15618 │ 18788 │\n",
       "│ 20346 │ 5813089732 │ 1598888968  │ \u001b[90mmissing\u001b[39m │ \u001b[90mmissing\u001b[39m  │ 16386 │ 18452 │\n",
       "│ 20347 │ 5813089732 │ 1536447127  │ \u001b[90mmissing\u001b[39m │ \u001b[90mmissing\u001b[39m  │ 15618 │ 18788 │\n",
       "│ 20348 │ 5813089732 │ 1536447127  │ \u001b[90mmissing\u001b[39m │ \u001b[90mmissing\u001b[39m  │ 16579 │ 18414 │\n",
       "│ 20349 │ 5813089732 │ 1536447127  │ \u001b[90mmissing\u001b[39m │ \u001b[90mmissing\u001b[39m  │ 17609 │ 18084 │\n",
       "│ 20350 │ 5813089732 │ 1536447127  │ \u001b[90mmissing\u001b[39m │ \u001b[90mmissing\u001b[39m  │ 16386 │ 18452 │\n",
       "│ 20351 │ 5813089732 │ 1315745396  │ \u001b[90mmissing\u001b[39m │ \u001b[90mmissing\u001b[39m  │ 12041 │ 19520 │\n",
       "│ 20352 │ 5813089732 │ 1292320285  │ \u001b[90mmissing\u001b[39m │ \u001b[90mmissing\u001b[39m  │ 17609 │ 18084 │\n",
       "│ 20353 │ 5813089732 │ 1158191887  │ \u001b[90mmissing\u001b[39m │ \u001b[90mmissing\u001b[39m  │ 23342 │ 17449 │"
      ]
     },
     "execution_count": 39,
     "metadata": {},
     "output_type": "execute_result"
    }
   ],
   "source": [
    "neighbor_distance = DataFrame(pre_neuron=getindex.(self_ids,1), post_neuron=getindex.(self_ids,2), distance=distances)\n",
    "#CSV.write(\"self_connection_distances.csv\", neighbor_distance)\n",
    "synapse_locations"
   ]
  },
  {
   "cell_type": "code",
   "execution_count": 46,
   "metadata": {},
   "outputs": [],
   "source": [
    "relative_synapses = reshape([], 0, 3);\n",
    "for id in unique_ids\n",
    "    # ask if there are any self_connections?\n",
    "\n",
    "\n",
    "    if any(self_connections.bodyId_post .== id)\n",
    "\n",
    "        centroid_location = collect(centroid(id, synapse_locations))\n",
    "        pre_neurons = self_connections[self_connections.bodyId_post .== id,:][\"bodyId_pre\"]\n",
    "\n",
    "        input_locations = reshape([], 0, 3);\n",
    "        for pre in pre_neurons\n",
    "\n",
    "            x = synapse_locations[synapse_locations[\"bodyId_post\"] .== pre, :].x_post # input neuron's input locations (x)\n",
    "            y = synapse_locations[synapse_locations[\"bodyId_post\"] .== pre, :].y_post\n",
    "            z = synapse_locations[synapse_locations[\"bodyId_post\"] .== pre, :].z_post\n",
    "            input_locations = [input_locations; [x y z]]\n",
    "        end\n",
    "\n",
    "        relative_synapses = [relative_synapses; input_locations .- centroid_location']\n",
    "\n",
    "    end\n",
    "end \n",
    "\n"
   ]
  },
  {
   "cell_type": "code",
   "execution_count": 48,
   "metadata": {},
   "outputs": [
    {
     "data": {
      "text/plain": [
       "\"relative lc14 input locations.csv\""
      ]
     },
     "execution_count": 48,
     "metadata": {},
     "output_type": "execute_result"
    }
   ],
   "source": [
    "relative_self_synapses = DataFrame(x=relative_synapses[:,1], y=relative_synapses[:,2], z=relative_synapses[:,3])\n",
    "#CSV.write(\"relative lc14 input locations.csv\", relative_self_synapses)"
   ]
  },
  {
   "cell_type": "code",
   "execution_count": null,
   "metadata": {},
   "outputs": [],
   "source": []
  }
 ],
 "metadata": {
  "kernelspec": {
   "display_name": "Julia 1.5.2",
   "language": "julia",
   "name": "julia-1.5"
  },
  "language_info": {
   "file_extension": ".jl",
   "mimetype": "application/julia",
   "name": "julia",
   "version": "1.5.2"
  }
 },
 "nbformat": 4,
 "nbformat_minor": 4
}
