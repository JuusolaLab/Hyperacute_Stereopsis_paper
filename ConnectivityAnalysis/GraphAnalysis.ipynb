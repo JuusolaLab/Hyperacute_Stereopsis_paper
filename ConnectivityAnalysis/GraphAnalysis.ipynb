{
 "cells": [
  {
   "cell_type": "code",
   "execution_count": 1,
   "metadata": {},
   "outputs": [
    {
     "name": "stderr",
     "output_type": "stream",
     "text": [
      "┌ Info: Precompiling GraphPlot [a2cc645c-3eea-5389-862e-a155d0052231]\n",
      "└ @ Base loading.jl:1278\n",
      "┌ Info: Precompiling Cairo [159f3aea-2a34-519c-b102-8c37f9878175]\n",
      "└ @ Base loading.jl:1278\n",
      "┌ Info: Precompiling Metis [2679e427-3c69-5b7f-982b-ece356f1e94b]\n",
      "└ @ Base loading.jl:1278\n"
     ]
    }
   ],
   "source": [
    "using CSV, DataFrames, LightGraphs, SimpleWeightedGraphs, GraphPlot, UnicodePlots, Cairo, Compose, Colors, Missings, Metis;"
   ]
  },
  {
   "cell_type": "markdown",
   "metadata": {},
   "source": [
    "### Get the Connection Data"
   ]
  },
  {
   "cell_type": "code",
   "execution_count": 2,
   "metadata": {},
   "outputs": [],
   "source": [
    "down_csv = \"LC14 downstream Connections.csv\";\n",
    "up_csv = \"LC14 Upstream Connections.csv\";\n",
    "\n",
    "down_df = DataFrame(CSV.File(down_csv));\n",
    "up_df = DataFrame(CSV.File(up_csv));\n",
    "\n",
    "# Remove the first row as it's just the numbers. \n",
    "down_df = down_df[:,2:end];\n",
    "up_df = up_df[:,2:end];"
   ]
  },
  {
   "cell_type": "markdown",
   "metadata": {},
   "source": [
    "##### Clean up the Missing Data"
   ]
  },
  {
   "cell_type": "code",
   "execution_count": 3,
   "metadata": {},
   "outputs": [],
   "source": [
    "replace!(up_df[\"type_pre\"], missing => \"\")\n",
    "replace!(up_df[\"type_post\"], missing => \"\")\n",
    "replace!(down_df[\"type_pre\"], missing => \"\")\n",
    "replace!(down_df[\"type_post\"], missing => \"\");"
   ]
  },
  {
   "cell_type": "markdown",
   "metadata": {},
   "source": [
    "### Convert from the dataframes into a weighted graph network."
   ]
  },
  {
   "cell_type": "code",
   "execution_count": 4,
   "metadata": {},
   "outputs": [],
   "source": [
    "unique_ids = unique([up_df[\"bodyId_pre\"]; up_df[\"bodyId_post\"]]);\n",
    "id_numbers = Dict{Int, Int}();\n",
    "sizehint!(id_numbers, length(unique_ids));\n",
    "for (i, id) in enumerate(unique_ids)\n",
    "    id_numbers[id] = i\n",
    "end\n",
    "\n",
    "df_ids = Dict{Int, Int}();\n",
    "sizehint!(df_ids, length(unique_ids));\n",
    "for (i, id) in enumerate(unique_ids)\n",
    "    df_ids[i] = id\n",
    "end"
   ]
  },
  {
   "cell_type": "code",
   "execution_count": 5,
   "metadata": {},
   "outputs": [],
   "source": [
    "g = SimpleGraph(length(unique_ids));\n",
    "for row in eachrow(up_df)\n",
    "    add_edge!(g, id_numbers[row[\"bodyId_pre\"]], id_numbers[row[\"bodyId_post\"]])\n",
    "end"
   ]
  },
  {
   "cell_type": "code",
   "execution_count": 6,
   "metadata": {},
   "outputs": [],
   "source": [
    "di_g = DiGraph(length(unique_ids));\n",
    "for row in eachrow(up_df)\n",
    "    add_edge!(di_g, id_numbers[row[\"bodyId_pre\"]], id_numbers[row[\"bodyId_post\"]])\n",
    "end"
   ]
  },
  {
   "cell_type": "code",
   "execution_count": 7,
   "metadata": {},
   "outputs": [],
   "source": [
    "weighted_g = SimpleWeightedGraph(length(unique_ids));\n",
    "for row in eachrow(up_df)\n",
    "    add_edge!(weighted_g, id_numbers[row[\"bodyId_pre\"]], id_numbers[row[\"bodyId_post\"]], row[\"weight\"])\n",
    "end"
   ]
  },
  {
   "cell_type": "code",
   "execution_count": 8,
   "metadata": {},
   "outputs": [],
   "source": [
    "weighted_di_g = SimpleWeightedDiGraph(length(unique_ids));\n",
    "for row in eachrow(up_df)\n",
    "    add_edge!(weighted_di_g, id_numbers[row[\"bodyId_pre\"]], id_numbers[row[\"bodyId_post\"]], row[\"weight\"])\n",
    "end"
   ]
  },
  {
   "cell_type": "markdown",
   "metadata": {},
   "source": [
    "### Color the LC14 neurons different to the rest."
   ]
  },
  {
   "cell_type": "code",
   "execution_count": 9,
   "metadata": {},
   "outputs": [],
   "source": [
    "node_colors = Vector{RGB}(undef, length(unique_ids))\n",
    "lc14_color = RGB(0/255, 188/255, 255/255)\n",
    "other_color = RGB(161/255, 161/255, 161/255)\n",
    "\n",
    "for row in eachrow(up_df)\n",
    "    if ismissing(row[\"type_pre\"]) || row[\"type_pre\"] != \"LC14\"\n",
    "        node_colors[id_numbers[row[\"bodyId_pre\"]]] = other_color\n",
    "    else\n",
    "        node_colors[id_numbers[row[\"bodyId_pre\"]]] = lc14_color\n",
    "    end\n",
    "    \n",
    "    if ismissing(row[\"type_post\"]) || row[\"type_post\"] != \"LC14\"\n",
    "        node_colors[id_numbers[row[\"bodyId_post\"]]] = other_color\n",
    "    else\n",
    "        node_colors[id_numbers[row[\"bodyId_post\"]]] = lc14_color\n",
    "    end\n",
    "end\n",
    "nodesize = [3 * LightGraphs.outdegree(weighted_g, v) for v in LightGraphs.vertices(weighted_g)];"
   ]
  },
  {
   "cell_type": "code",
   "execution_count": 10,
   "metadata": {},
   "outputs": [],
   "source": [
    "plt = gplot(weighted_g, nodefillc=node_colors, nodesize=100 .* nodesize)\n",
    "draw(PDF(\"upstream_colored_nodesize2.pdf\", 30cm, 30cm), plt)"
   ]
  },
  {
   "cell_type": "markdown",
   "metadata": {},
   "source": [
    "### Find innervation Types"
   ]
  },
  {
   "cell_type": "code",
   "execution_count": 11,
   "metadata": {},
   "outputs": [
    {
     "name": "stderr",
     "output_type": "stream",
     "text": [
      "┌ Info: Precompiling Plots [91a5bcdd-55d7-5caf-9e0b-520d859cae80]\n",
      "└ @ Base loading.jl:1278\n"
     ]
    },
    {
     "data": {
      "text/plain": [
       "Plot{Plots.UnicodePlotsBackend() n=1}"
      ]
     },
     "execution_count": 11,
     "metadata": {},
     "output_type": "execute_result"
    }
   ],
   "source": [
    "using Plots\n",
    "unicodeplots()\n",
    "presynaptic_types = Vector{String}(up_df[\"type_pre\"])\n",
    "presynaptic_uniquetypes = unique(presynaptic_types)\n",
    "filter!(!isempty, presynaptic_uniquetypes)\n",
    "\n",
    "counts = Vector{Int}(undef, length(presynaptic_uniquetypes))\n",
    "\n",
    "i = 1\n",
    "for unique_type in presynaptic_uniquetypes\n",
    "    counts[i] = count(unique_type .== presynaptic_types)\n",
    "    i += 1\n",
    "end\n",
    "\n",
    "thresh_types = presynaptic_uniquetypes[counts .> 20]\n",
    "f = bar(thresh_types, counts[counts.>20])\n"
   ]
  },
  {
   "cell_type": "markdown",
   "metadata": {},
   "source": [
    "## Bisection"
   ]
  },
  {
   "cell_type": "markdown",
   "metadata": {},
   "source": [
    "### Some functions for finding the strongest n neighbours."
   ]
  },
  {
   "cell_type": "code",
   "execution_count": 12,
   "metadata": {},
   "outputs": [],
   "source": [
    "function strongest_neigbours(graph, vertex, n)\n",
    "    \n",
    "    neighbs = neighbors(graph, vertex)\n",
    "    weights = neighborhood_weights(graph, vertex, neighbs)\n",
    "    neighbs[strongest_weights(weights, n)]\n",
    "end\n",
    "\n",
    "function neighborhood_weights(graph, origin, neighbrs)\n",
    "\n",
    "    i = 1\n",
    "    weights = Vector{Float64}(undef, length(neighbrs))\n",
    "    for n in neighbrs\n",
    "        weights[i] = graph.weights[origin, n]\n",
    "        i += 1\n",
    "    end\n",
    "    return weights\n",
    "end\n",
    "\n",
    "\n",
    "function strongest_weights(weights,n)\n",
    "\n",
    "    num_weights = length(weights)\n",
    "    partialsortperm(weights,1:min(num_weights,n),rev=true)\n",
    "end;"
   ]
  },
  {
   "cell_type": "code",
   "execution_count": 13,
   "metadata": {},
   "outputs": [],
   "source": [
    "i = 1\n",
    "n = 2\n",
    "graph = weighted_g\n",
    "\n",
    "neighborhoods = Vector{Vector{Int}}(undef, nv(graph))\n",
    "\n",
    "for vertex in 1:nv(graph)\n",
    "    neighborhoods[i] = strongest_neigbours(graph, vertex, n)\n",
    "    i += 1\n",
    "end\n",
    "\n",
    "# Any nodes that were strongly connected previously are now considered the same node.\n"
   ]
  },
  {
   "cell_type": "markdown",
   "metadata": {},
   "source": [
    "Partition the graph into 2 groups"
   ]
  },
  {
   "cell_type": "code",
   "execution_count": 14,
   "metadata": {
    "scrolled": true
   },
   "outputs": [],
   "source": [
    "node_groups = Metis.partition(g, 2)\n",
    "i=1\n",
    "node_colors = Vector{RGB}(undef, length(unique_ids))\n",
    "for node in node_groups\n",
    "    node_colors[i] = (node_groups[i] == 1) ? RGB(255/255, 188/255, 0/255) : RGB(0/255, 188/255, 255/255)\n",
    "    i += 1\n",
    "end;"
   ]
  },
  {
   "cell_type": "code",
   "execution_count": 22,
   "metadata": {},
   "outputs": [],
   "source": [
    "plt = gplot(weighted_g, nodefillc=node_colors)\n",
    "plt;"
   ]
  },
  {
   "cell_type": "code",
   "execution_count": 68,
   "metadata": {},
   "outputs": [
    {
     "data": {
      "image/svg+xml": [
       "<?xml version=\"1.0\" encoding=\"UTF-8\"?>\n",
       "<!DOCTYPE svg PUBLIC \"-//W3C//DTD SVG 1.1//EN\"\n",
       " \"http://www.w3.org/Graphics/SVG/1.1/DTD/svg11.dtd\">\n",
       "<svg xmlns=\"http://www.w3.org/2000/svg\" version=\"1.1\"\n",
       "     width=\"25mm\" height=\"25mm\" viewBox=\"0 0 1 1\">\n",
       "    <rect width=\"1\" height=\"1\" fill=\"#FFBC00\" stroke=\"none\"/>\n",
       "</svg>\n"
      ],
      "text/plain": [
       "RGB{Float64}(1.0,0.7372549019607844,0.0)"
      ]
     },
     "execution_count": 68,
     "metadata": {},
     "output_type": "execute_result"
    }
   ],
   "source": [
    "RGB(255/255, 188/255, 0/255)"
   ]
  },
  {
   "cell_type": "code",
   "execution_count": 16,
   "metadata": {},
   "outputs": [],
   "source": [
    "up_df.pre_group = zeros(Int, size(up_df,1))\n",
    "up_df.post_group = zeros(Int, size(up_df,1))\n",
    "\n",
    "for row in eachrow(up_df)\n",
    "    \n",
    "    row[\"pre_group\"] = node_groups[id_numbers[row[\"bodyId_pre\"]]]\n",
    "    row[\"post_group\"] = node_groups[id_numbers[row[\"bodyId_post\"]]]\n",
    "\n",
    "end"
   ]
  },
  {
   "cell_type": "code",
   "execution_count": 17,
   "metadata": {},
   "outputs": [
    {
     "data": {
      "text/plain": [
       "\"upstream neuron groups.csv\""
      ]
     },
     "execution_count": 17,
     "metadata": {},
     "output_type": "execute_result"
    }
   ],
   "source": [
    "group_ids = DataFrame()\n",
    "\n",
    "out = Array{Int,2}(undef, length(unique_ids), 2);\n",
    "\n",
    "for (i,node) in enumerate(node_groups)\n",
    "    \n",
    "    out[i,:] .= [df_ids[i], node]\n",
    "end\n",
    "\n",
    "upstream_grouped = DataFrame()\n",
    "upstream_grouped.bodyIds = out[:,1]\n",
    "upstream_grouped.group = out[:,2];\n",
    "CSV.write(\"upstream neuron groups.csv\", upstream_grouped)"
   ]
  },
  {
   "cell_type": "code",
   "execution_count": 67,
   "metadata": {},
   "outputs": [
    {
     "data": {
      "text/plain": [
       "\"upstream neuron groups (with metadata).csv\""
      ]
     },
     "execution_count": 67,
     "metadata": {},
     "output_type": "execute_result"
    }
   ],
   "source": [
    "CSV.write(\"upstream neuron groups (with metadata).csv\", up_df)"
   ]
  }
 ],
 "metadata": {
  "kernelspec": {
   "display_name": "Julia 1.5.2",
   "language": "julia",
   "name": "julia-1.5"
  },
  "language_info": {
   "file_extension": ".jl",
   "mimetype": "application/julia",
   "name": "julia",
   "version": "1.5.2"
  }
 },
 "nbformat": 4,
 "nbformat_minor": 4
}
